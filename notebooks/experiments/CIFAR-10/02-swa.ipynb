{
 "cells": [
  {
   "cell_type": "code",
   "execution_count": 1,
   "id": "12e3f77c-248a-4025-9fc7-02d1f8cd4aa7",
   "metadata": {},
   "outputs": [
    {
     "name": "stdout",
     "output_type": "stream",
     "text": [
      "Using cpu\n",
      "Files already downloaded and verified\n",
      "Files already downloaded and verified\n"
     ]
    }
   ],
   "source": [
    "%matplotlib inline\n",
    "%load_ext autoreload\n",
    "%autoreload 2\n",
    "\n",
    "import matplotlib.pyplot as plt\n",
    "import numpy as np\n",
    "import pandas as pd\n",
    "\n",
    "import torch\n",
    "from torch.nn import functional as F\n",
    "from torchvision.utils import make_grid\n",
    "from torch.optim.swa_utils import SWALR\n",
    "\n",
    "from swadist.data.loader import get_dataloaders\n",
    "from swadist.utils import Trainer, show_imgs, LinearPolyLR\n",
    "from swadist.models.resnet import ResNet\n",
    "\n",
    "plt.rcParams[\"savefig.bbox\"] = 'tight'\n",
    "torch.multiprocessing.set_sharing_strategy('file_system')\n",
    "\n",
    "torch.cuda.device_count()\n",
    "\n",
    "device = 'cuda' if torch.cuda.is_available() else 'cpu'\n",
    "print(f'Using {device}')\n",
    "\n",
    "# load CIFAR-10\n",
    "train_loader, valid_loader = get_dataloaders(\n",
    "    dataset=\"cifar10\", num_workers=4, batch_size=16, cuda=device=='cuda', test=False\n",
    ")"
   ]
  },
  {
   "cell_type": "markdown",
   "id": "652ad42e-945d-42ed-bf28-0bea96dd0237",
   "metadata": {},
   "source": [
    "### Two-phase training: SGD + SWA\n",
    "\n",
    "We train ResNet-8, using the optimal hyperparameters given in [Shallue et al. 2019](http://arxiv.org/abs/1811.03600) for phase 1 (SGD w/ Nesterov momentum). \n",
    "\n",
    "For the SWA phase, we follow [Izmailov et al.](http://arxiv.org/abs/1803.05407) and use a constant learning rate that is 10x smaller than the initial learning rate in the first phase."
   ]
  },
  {
   "cell_type": "code",
   "execution_count": 2,
   "id": "e805248e-1f34-4d3c-96f2-2879e9c8971f",
   "metadata": {
    "scrolled": true,
    "tags": []
   },
   "outputs": [
    {
     "name": "stdout",
     "output_type": "stream",
     "text": [
      "Adjusting learning rate of group 0 to 2.7621e-03.\n",
      "Starting 15-epoch training loop...\n",
      "\n",
      "Train epoch: 1 -- Accuracy: 0.290082 -- Avg. loss (cross_entropy): 1.872467 -- Batch: 2813/2813 (100%) -- Total steps: 2813\n",
      "Validation accuracy: 0.389577 -- Avg. loss (cross_entropy): 1.656444 -- Batch: 313/313 (100%)\n",
      "\n",
      "Adjusting learning rate of group 0 to 2.5550e-03.\n",
      "Train epoch: 2 -- Accuracy: 0.440833 -- Avg. loss (cross_entropy): 1.517869 -- Batch: 2813/2813 (100%) -- Total steps: 5626\n",
      "Validation accuracy: 0.515375 -- Avg. loss (cross_entropy): 1.380072 -- Batch: 313/313 (100%)\n",
      "\n",
      "Adjusting learning rate of group 0 to 2.3478e-03.\n",
      "Train epoch: 3 -- Accuracy: 0.578564 -- Avg. loss (cross_entropy): 1.175578 -- Batch: 2813/2813 (100%) -- Total steps: 8439\n",
      "Validation accuracy: 0.613019 -- Avg. loss (cross_entropy): 1.102383 -- Batch: 313/313 (100%)\n",
      "\n",
      "Adjusting learning rate of group 0 to 2.1407e-03.\n",
      "Train epoch: 4 -- Accuracy: 0.638398 -- Avg. loss (cross_entropy): 1.020614 -- Batch: 2813/2813 (100%) -- Total steps: 11252\n",
      "Validation accuracy: 0.657348 -- Avg. loss (cross_entropy): 0.978426 -- Batch: 313/313 (100%)\n",
      "\n",
      "Adjusting learning rate of group 0 to 1.9335e-03.\n",
      "Train epoch: 5 -- Accuracy: 0.681434 -- Avg. loss (cross_entropy): 0.909214 -- Batch: 2813/2813 (100%) -- Total steps: 14065\n",
      "Validation accuracy: 0.686901 -- Avg. loss (cross_entropy): 0.901391 -- Batch: 313/313 (100%)\n",
      "\n",
      "Adjusting learning rate of group 0 to 1.7263e-03.\n",
      "Train epoch: 6 -- Accuracy: 0.712318 -- Avg. loss (cross_entropy): 0.817834 -- Batch: 2813/2813 (100%) -- Total steps: 16878\n",
      "Validation accuracy: 0.678115 -- Avg. loss (cross_entropy): 0.917390 -- Batch: 313/313 (100%)\n",
      "\n",
      "Adjusting learning rate of group 0 to 1.5192e-03.\n",
      "Train epoch: 7 -- Accuracy: 0.738735 -- Avg. loss (cross_entropy): 0.746961 -- Batch: 2813/2813 (100%) -- Total steps: 19691\n",
      "Validation accuracy: 0.726038 -- Avg. loss (cross_entropy): 0.802808 -- Batch: 313/313 (100%)\n",
      "\n",
      "Adjusting learning rate of group 0 to 1.3120e-03.\n",
      "Train epoch: 8 -- Accuracy: 0.763264 -- Avg. loss (cross_entropy): 0.678421 -- Batch: 2813/2813 (100%) -- Total steps: 22504\n",
      "Validation accuracy: 0.737021 -- Avg. loss (cross_entropy): 0.759012 -- Batch: 313/313 (100%)\n",
      "\n",
      "Adjusting learning rate of group 0 to 1.1049e-03.\n",
      "Train epoch: 9 -- Accuracy: 0.785149 -- Avg. loss (cross_entropy): 0.619989 -- Batch: 2813/2813 (100%) -- Total steps: 25317\n",
      "Validation accuracy: 0.746206 -- Avg. loss (cross_entropy): 0.753910 -- Batch: 313/313 (100%)\n",
      "\n",
      "Adjusting learning rate of group 0 to 8.9769e-04.\n",
      "Train epoch: 10 -- Accuracy: 0.804324 -- Avg. loss (cross_entropy): 0.557872 -- Batch: 2813/2813 (100%) -- Total steps: 28130\n",
      "Validation accuracy: 0.756589 -- Avg. loss (cross_entropy): 0.726178 -- Batch: 313/313 (100%)\n",
      "\n",
      "Adjusting learning rate of group 0 to 6.9053e-04.\n",
      "Train epoch: 11 -- Accuracy: 0.825187 -- Avg. loss (cross_entropy): 0.497395 -- Batch: 2813/2813 (100%) -- Total steps: 30943\n",
      "Validation accuracy: 0.769369 -- Avg. loss (cross_entropy): 0.701891 -- Batch: 313/313 (100%)\n",
      "\n",
      "Train epoch: 12 -- Accuracy: 0.858581 -- Avg. loss (cross_entropy): 0.405493 -- Batch: 2813/2813 (100%) -- Total steps: 33756\n",
      "Validation accuracy: 0.773962 -- Avg. loss (cross_entropy): 0.688603 -- Batch: 313/313 (100%)\n",
      "\n",
      "Train epoch: 13 -- Accuracy: 0.867690 -- Avg. loss (cross_entropy): 0.380229 -- Batch: 2813/2813 (100%) -- Total steps: 36569\n",
      "Validation accuracy: 0.771166 -- Avg. loss (cross_entropy): 0.688147 -- Batch: 313/313 (100%)\n",
      "\n",
      "Train epoch: 14 -- Accuracy: 0.873023 -- Avg. loss (cross_entropy): 0.361344 -- Batch: 2813/2813 (100%) -- Total steps: 39382\n",
      "Validation accuracy: 0.772364 -- Avg. loss (cross_entropy): 0.695775 -- Batch: 313/313 (100%)\n",
      "\n",
      "Train epoch: 15 -- Accuracy: 0.879444 -- Avg. loss (cross_entropy): 0.344473 -- Batch: 2813/2813 (100%) -- Total steps: 42195\n",
      "Validation accuracy: 0.772564 -- Avg. loss (cross_entropy): 0.697245 -- Batch: 313/313 (100%)\n",
      "\n"
     ]
    }
   ],
   "source": [
    "# initial lr, scaling factor, momentum, SWA lr\n",
    "lr0, alpha, gamma = 2**-8.5, 0.25, 0.97\n",
    "swa_lr = lr0 / 10\n",
    "\n",
    "# epochs, lr scaling epochs\n",
    "epochs, decay_epochs, epochs_swa = 10, 8, 5\n",
    "\n",
    "# model\n",
    "resnet8 = ResNet(in_kernel_size=3, stack_sizes=[1, 1, 1], n_classes=10, batch_norm=False)\n",
    "\n",
    "optimizer = torch.optim.SGD(resnet8.parameters(), lr=lr0, momentum=gamma, nesterov=True)\n",
    "scheduler = LinearPolyLR(optimizer, alpha=alpha, decay_epochs=decay_epochs, verbose=True)\n",
    "swa_scheduler = SWALR(optimizer, anneal_strategy='linear', anneal_epochs=0, swa_lr=swa_lr)\n",
    "\n",
    "trainer = Trainer(resnet8, train_loader, valid_loader, F.cross_entropy, optimizer, scheduler=scheduler, swa_scheduler=swa_scheduler, log=True, name='swa')\n",
    "\n",
    "# begin training\n",
    "trainer(epochs=epochs, epochs_swa=epochs_swa, validations_per_epoch=4)"
   ]
  },
  {
   "cell_type": "code",
   "execution_count": 3,
   "id": "3426cdbb-9b89-4e2c-a055-8b767455fb7a",
   "metadata": {},
   "outputs": [
    {
     "name": "stdout",
     "output_type": "stream",
     "text": [
      "SWA validation accuracy gain: 0.0160\n"
     ]
    }
   ],
   "source": [
    "# difference in validation accuracy between end of SWA and SGD phases\n",
    "print(f'SWA validation accuracy gain: {trainer.valid_acc - trainer.valid_accs[epochs - 1]:.4f}')"
   ]
  }
 ],
 "metadata": {
  "kernelspec": {
   "display_name": "Python 3",
   "language": "python",
   "name": "python3"
  },
  "language_info": {
   "codemirror_mode": {
    "name": "ipython",
    "version": 3
   },
   "file_extension": ".py",
   "mimetype": "text/x-python",
   "name": "python",
   "nbconvert_exporter": "python",
   "pygments_lexer": "ipython3",
   "version": "3.9.10"
  }
 },
 "nbformat": 4,
 "nbformat_minor": 5
}
